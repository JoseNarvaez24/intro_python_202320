{
  "nbformat": 4,
  "nbformat_minor": 0,
  "metadata": {
    "colab": {
      "provenance": [],
      "authorship_tag": "ABX9TyML/pU3mzTXaIS+Mew6UHtE",
      "include_colab_link": true
    },
    "kernelspec": {
      "name": "python3",
      "display_name": "Python 3"
    },
    "language_info": {
      "name": "python"
    }
  },
  "cells": [
    {
      "cell_type": "markdown",
      "metadata": {
        "id": "view-in-github",
        "colab_type": "text"
      },
      "source": [
        "<a href=\"https://colab.research.google.com/github/JoseNarvaez24/intro_python_202320/blob/main/introduction.ipynb\" target=\"_parent\"><img src=\"https://colab.research.google.com/assets/colab-badge.svg\" alt=\"Open In Colab\"/></a>"
      ]
    },
    {
      "cell_type": "markdown",
      "source": [
        "# Introducción a python\n",
        "\n",
        "## Curso e programación y algoritmia UPB 202320\n",
        "\n",
        "- Nombre: José Luis\n",
        "- ID: 500983\n",
        "- Email: josel.narvaez@upb.edu.co\n",
        "\n",
        "Esta es la expreción de la línea recta:\n",
        "$$y = mx + b$$\n",
        "Donde $x$ es la posición"
      ],
      "metadata": {
        "id": "z_mSKSceFkMb"
      }
    },
    {
      "cell_type": "code",
      "source": [
        "# Comentarios"
      ],
      "metadata": {
        "id": "lPM7k8ZeIIzL"
      },
      "execution_count": null,
      "outputs": []
    },
    {
      "cell_type": "code",
      "execution_count": 4,
      "metadata": {
        "colab": {
          "base_uri": "https://localhost:8080/"
        },
        "id": "zqcVj0fqEreO",
        "outputId": "d12ac4d0-1b64-4b96-ccd1-d698ebd733cf"
      },
      "outputs": [
        {
          "output_type": "stream",
          "name": "stdout",
          "text": [
            "Hello, José Luis\n"
          ]
        }
      ],
      "source": [
        "# Mis primeras líneas de código en Python\n",
        "name = \"José Luis\"\n",
        "print(\"Hello,\", name)\n"
      ]
    },
    {
      "cell_type": "code",
      "source": [
        "# Frase\n",
        "firstname = \"José Luis\"\n",
        "lastname = \"Narvaez Arrieta\"\n",
        "age = \"18\"\n",
        "city = \"Cereté\"\n",
        "food = \"Mote de queso\"\n",
        "print(\"Mi nombre es\", firstname, lastname, \"y tengo\", age, \"años\", \"vivo en\", city, \"y me gusta el\", food )"
      ],
      "metadata": {
        "colab": {
          "base_uri": "https://localhost:8080/"
        },
        "id": "WNmJi3HVTKjl",
        "outputId": "fd7d398d-8242-4bd9-f080-8138b352cd86"
      },
      "execution_count": 13,
      "outputs": [
        {
          "output_type": "stream",
          "name": "stdout",
          "text": [
            "Mi nombre es José Luis Narvaez Arrieta y tengo 18 años vivo en Cereté y me gusta el Mote de queso\n"
          ]
        }
      ]
    }
  ]
}