{
  "nbformat": 4,
  "nbformat_minor": 0,
  "metadata": {
    "colab": {
      "provenance": [],
      "authorship_tag": "ABX9TyNf73KGIfWbViuZEqHLNpB/",
      "include_colab_link": true
    },
    "kernelspec": {
      "name": "python3",
      "display_name": "Python 3"
    },
    "language_info": {
      "name": "python"
    }
  },
  "cells": [
    {
      "cell_type": "markdown",
      "metadata": {
        "id": "view-in-github",
        "colab_type": "text"
      },
      "source": [
        "<a href=\"https://colab.research.google.com/github/JoseNarvaez24/intro_python_202320/blob/main/introduction.ipynb\" target=\"_parent\"><img src=\"https://colab.research.google.com/assets/colab-badge.svg\" alt=\"Open In Colab\"/></a>"
      ]
    },
    {
      "cell_type": "markdown",
      "source": [
        "# Introducción a python\n",
        "\n",
        "## Curso e programación y algoritmia UPB 202320\n",
        "\n",
        "- Nombre: José Luis\n",
        "- ID: 500983\n",
        "- Email: josel.narvaez@upb.edu.co\n",
        "\n",
        "Esta es la expreción de la línea recta:\n",
        "$$y = mx + b$$\n",
        "Donde $x$ es la posición"
      ],
      "metadata": {
        "id": "z_mSKSceFkMb"
      }
    },
    {
      "cell_type": "code",
      "source": [
        "# Comentarios"
      ],
      "metadata": {
        "id": "lPM7k8ZeIIzL"
      },
      "execution_count": null,
      "outputs": []
    },
    {
      "cell_type": "code",
      "execution_count": null,
      "metadata": {
        "colab": {
          "base_uri": "https://localhost:8080/"
        },
        "id": "zqcVj0fqEreO",
        "outputId": "d12ac4d0-1b64-4b96-ccd1-d698ebd733cf"
      },
      "outputs": [
        {
          "output_type": "stream",
          "name": "stdout",
          "text": [
            "Hello, José Luis\n"
          ]
        }
      ],
      "source": [
        "# Mis primeras líneas de código en Python\n",
        "name = \"José Luis\"\n",
        "print(\"Hello,\", name)\n"
      ]
    },
    {
      "cell_type": "code",
      "source": [
        "# Frase\n",
        "firstname = \"José Luis\"\n",
        "lastname = \"Narvaez Arrieta\"\n",
        "age = \"18\"\n",
        "city = \"Cereté\"\n",
        "food = \"Mote de queso\"\n",
        "print(\"Mi nombre es\", firstname, lastname, \"y tengo\", age, \"años\", \"vivo en\", city, \"y me gusta el\", food )"
      ],
      "metadata": {
        "colab": {
          "base_uri": "https://localhost:8080/"
        },
        "id": "WNmJi3HVTKjl",
        "outputId": "c2d4bc32-6fd5-4fb3-cdc6-980494752ed5"
      },
      "execution_count": 2,
      "outputs": [
        {
          "output_type": "stream",
          "name": "stdout",
          "text": [
            "Mi nombre es José Luis Narvaez Arrieta y tengo 18 años vivo en Cereté y me gusta el Mote de queso\n"
          ]
        }
      ]
    },
    {
      "cell_type": "code",
      "source": [
        "a = 3\n",
        "b = 4.5\n",
        "c = a + b\n",
        "print(type(a))\n",
        "print(type(b))\n",
        "print(c)\n",
        "c = c * a\n",
        "print(c)\n",
        "c = int(c / b)\n",
        "print(c)\n",
        "d = 0.3\n",
        "c /= 0.3\n",
        "print(c)\n"
      ],
      "metadata": {
        "id": "SyGvnJ_OaFZ6",
        "outputId": "301a3f6b-4f08-4563-897e-99cd14ea70e5",
        "colab": {
          "base_uri": "https://localhost:8080/"
        }
      },
      "execution_count": 10,
      "outputs": [
        {
          "output_type": "stream",
          "name": "stdout",
          "text": [
            "<class 'int'>\n",
            "<class 'float'>\n",
            "7.5\n",
            "22.5\n",
            "5\n",
            "16.666666666666668\n"
          ]
        }
      ]
    },
    {
      "cell_type": "code",
      "source": [
        "m = 5\n",
        "b = 2\n",
        "x = -3\n",
        "y = m * x + b\n",
        "print(y)\n",
        "x = -2\n",
        "y = m * x + b\n",
        "print(y)\n",
        "x = -1\n",
        "y = m * x + b\n",
        "print(y)\n",
        "x = 0\n",
        "y = m * x + b\n",
        "print(y)\n",
        "x = 1\n",
        "y = m * x + b\n",
        "print(y)\n",
        "x = 2\n",
        "y = m * x + b\n",
        "print(y)\n",
        "x = 3\n",
        "y = m * x + b\n",
        "print(y)\n"
      ],
      "metadata": {
        "id": "Qx6nWt14bevF",
        "outputId": "38cf1e1d-371a-40e3-839f-285e1c59cbe2",
        "colab": {
          "base_uri": "https://localhost:8080/"
        }
      },
      "execution_count": 20,
      "outputs": [
        {
          "output_type": "stream",
          "name": "stdout",
          "text": [
            "-13\n",
            "-8\n",
            "-3\n",
            "2\n",
            "7\n",
            "12\n",
            "17\n"
          ]
        }
      ]
    },
    {
      "cell_type": "code",
      "source": [
        "a = 1\n",
        "b = 2\n",
        "c = -8\n",
        "\n",
        "disc = (b ** 2 - 4 * a * c) ** (1/2)\n",
        "x_p = (-b + disc) / (2 * a)\n",
        "x_n = (-b - disc) / (2 * a)\n",
        "print(\"x_p:\", x_p)\n",
        "print(\"x_n:\", x_n)\n",
        "\n",
        "a = -3\n",
        "b = 1\n",
        "c = 10\n",
        "\n",
        "disc = (b ** 2 - 4 * a * c) ** (1/2)\n",
        "x_p = (-b + disc) / (2 * a)\n",
        "x_n = (-b - disc) / (2 * a)\n",
        "print(\"x_p:\", x_p)\n",
        "print(\"x_n:\", x_n)\n",
        "\n",
        "a = 0.1\n",
        "b = -2\n",
        "c = 0.5\n",
        "\n",
        "disc = (b ** 2 - 4 * a * c) ** (1/2)\n",
        "x_p = (-b + disc) / (2 * a)\n",
        "x_n = (-b - disc) / (2 * a)\n",
        "print(\"x_p:\", x_p)\n",
        "print(\"x_n:\", x_n)\n"
      ],
      "metadata": {
        "id": "9aTOw-hTfkAd",
        "outputId": "3425bf35-b218-413a-d9be-35c28645d42e",
        "colab": {
          "base_uri": "https://localhost:8080/"
        }
      },
      "execution_count": 26,
      "outputs": [
        {
          "output_type": "stream",
          "name": "stdout",
          "text": [
            "x_p: 2.0\n",
            "x_n: -4.0\n",
            "x_p: -1.6666666666666667\n",
            "x_n: 2.0\n",
            "x_p: 19.74679434480896\n",
            "x_n: 0.25320565519103666\n"
          ]
        }
      ]
    },
    {
      "cell_type": "code",
      "source": [
        "firstname = \"Jose\"\n",
        "lastname = \"Narvaez\"\n",
        "fullname = firstname + \" \" + lastname\n",
        "print(fullname)"
      ],
      "metadata": {
        "id": "HR5EgsS0jsvO",
        "outputId": "60c815ee-5850-4feb-d3ca-bf16e27db99e",
        "colab": {
          "base_uri": "https://localhost:8080/"
        }
      },
      "execution_count": 28,
      "outputs": [
        {
          "output_type": "stream",
          "name": "stdout",
          "text": [
            "Jose Narvaez\n"
          ]
        }
      ]
    },
    {
      "cell_type": "code",
      "source": [
        "song = \"\"\"Un elefante se balanceaba\n",
        "sobre la tela de una araña\n",
        "como veia que resistia\n",
        "se fue a buscar otra... no se.\n",
        "\"\"\"\n",
        "print(song)"
      ],
      "metadata": {
        "id": "ZD2LtyIAkvNQ",
        "outputId": "3ebe0e0c-477a-4f35-e539-bcd1a560d812",
        "colab": {
          "base_uri": "https://localhost:8080/"
        }
      },
      "execution_count": 32,
      "outputs": [
        {
          "output_type": "stream",
          "name": "stdout",
          "text": [
            "Un elefante se balanceaba \n",
            "sobre la tela de una araña\n",
            "como veia que resistia\n",
            "se fue a buscar otra... no se.\n",
            "\n"
          ]
        }
      ]
    },
    {
      "cell_type": "code",
      "source": [
        "a = 3\n",
        "b = 5\n",
        "print( a == b)\n",
        "print( a != b)\n",
        "print(a > b)\n",
        "print( a < b)\n",
        "print((a == b) and (b + 3 > 5))\n",
        "print((a == b) or (b + 3 > 5))\n",
        "print(not (a == b))"
      ],
      "metadata": {
        "id": "5scHPrIqlFK2",
        "outputId": "26a5c975-88e6-4c88-d0bf-90216b283678",
        "colab": {
          "base_uri": "https://localhost:8080/"
        }
      },
      "execution_count": 35,
      "outputs": [
        {
          "output_type": "stream",
          "name": "stdout",
          "text": [
            "False\n",
            "True\n",
            "False\n",
            "True\n",
            "False\n",
            "True\n",
            "True\n"
          ]
        }
      ]
    },
    {
      "cell_type": "code",
      "source": [],
      "metadata": {
        "id": "76VQJjUDmbc5"
      },
      "execution_count": null,
      "outputs": []
    }
  ]
}