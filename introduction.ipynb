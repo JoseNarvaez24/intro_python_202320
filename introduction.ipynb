{
  "nbformat": 4,
  "nbformat_minor": 0,
  "metadata": {
    "colab": {
      "provenance": [],
      "authorship_tag": "ABX9TyMDeYXNM4eLEpejgLWXwk6D",
      "include_colab_link": true
    },
    "kernelspec": {
      "name": "python3",
      "display_name": "Python 3"
    },
    "language_info": {
      "name": "python"
    }
  },
  "cells": [
    {
      "cell_type": "markdown",
      "metadata": {
        "id": "view-in-github",
        "colab_type": "text"
      },
      "source": [
        "<a href=\"https://colab.research.google.com/github/JoseNarvaez24/intro_python_202320/blob/main/introduction.ipynb\" target=\"_parent\"><img src=\"https://colab.research.google.com/assets/colab-badge.svg\" alt=\"Open In Colab\"/></a>"
      ]
    },
    {
      "cell_type": "markdown",
      "source": [
        "# Introducción a python\n",
        "\n",
        "## Curso e programación y algoritmia UPB 202320\n",
        "\n",
        "- Nombre: José Luis\n",
        "- ID: 500983\n",
        "- Email: josel.narvaez@upb.edu.co\n",
        "\n",
        "Esta es la expreción de la línea recta:\n",
        "$$y = mx + b$$\n",
        "Donde $x$ es la posición"
      ],
      "metadata": {
        "id": "z_mSKSceFkMb"
      }
    },
    {
      "cell_type": "code",
      "execution_count": null,
      "metadata": {
        "id": "zqcVj0fqEreO"
      },
      "outputs": [],
      "source": []
    },
    {
      "cell_type": "code",
      "source": [],
      "metadata": {
        "id": "lPM7k8ZeIIzL"
      },
      "execution_count": null,
      "outputs": []
    }
  ]
}